{
  "nbformat": 4,
  "nbformat_minor": 0,
  "metadata": {
    "colab": {
      "name": "Teste de Velocidade.ipynb",
      "provenance": [],
      "authorship_tag": "ABX9TyM4WrCAhZqmRyj0YNyEGltf",
      "include_colab_link": true
    },
    "kernelspec": {
      "name": "python3",
      "display_name": "Python 3"
    },
    "language_info": {
      "name": "python"
    }
  },
  "cells": [
    {
      "cell_type": "markdown",
      "metadata": {
        "id": "view-in-github",
        "colab_type": "text"
      },
      "source": [
        "<a href=\"https://colab.research.google.com/github/HomemJaguar111/PythonLearning/blob/main/Teste_de_Velocidade.ipynb\" target=\"_parent\"><img src=\"https://colab.research.google.com/assets/colab-badge.svg\" alt=\"Open In Colab\"/></a>"
      ]
    },
    {
      "cell_type": "code",
      "execution_count": 1,
      "metadata": {
        "colab": {
          "base_uri": "https://localhost:8080/"
        },
        "id": "JAU1UkVbvhut",
        "outputId": "209f2e02-32b9-4a48-a24c-f8f3f25982d2"
      },
      "outputs": [
        {
          "output_type": "stream",
          "name": "stdout",
          "text": [
            "Looking in indexes: https://pypi.org/simple, https://us-python.pkg.dev/colab-wheels/public/simple/\n",
            "Collecting speedtest-cli\n",
            "  Downloading speedtest_cli-2.1.3-py2.py3-none-any.whl (23 kB)\n",
            "Installing collected packages: speedtest-cli\n",
            "Successfully installed speedtest-cli-2.1.3\n"
          ]
        }
      ],
      "source": [
        "!pip install speedtest-cli\n"
      ]
    },
    {
      "cell_type": "code",
      "source": [
        "import speedtest"
      ],
      "metadata": {
        "id": "d2MfMI4Fvykk"
      },
      "execution_count": 2,
      "outputs": []
    },
    {
      "cell_type": "code",
      "source": [
        "test = speedtest.Speedtest()\n",
        "down = test.download()\n",
        "upload = test.upload()\n"
      ],
      "metadata": {
        "id": "N5pytw7av1wR"
      },
      "execution_count": 3,
      "outputs": []
    },
    {
      "cell_type": "code",
      "source": [
        "print(f\"Download speed: {down}\")"
      ],
      "metadata": {
        "colab": {
          "base_uri": "https://localhost:8080/"
        },
        "id": "n0OXFXnewRU6",
        "outputId": "01a91466-58d4-493e-fad3-c2752daa2846"
      },
      "execution_count": 4,
      "outputs": [
        {
          "output_type": "stream",
          "name": "stdout",
          "text": [
            "Download speed: 1978498464.7364488\n"
          ]
        }
      ]
    },
    {
      "cell_type": "code",
      "source": [
        "print(f\"Upload speed: {upload}\")"
      ],
      "metadata": {
        "colab": {
          "base_uri": "https://localhost:8080/"
        },
        "id": "1TfLC2tpwxKA",
        "outputId": "b0f7834c-2058-49e7-ada8-451b49977a47"
      },
      "execution_count": 5,
      "outputs": [
        {
          "output_type": "stream",
          "name": "stdout",
          "text": [
            "Upload speed: 753801317.3442504\n"
          ]
        }
      ]
    }
  ]
}