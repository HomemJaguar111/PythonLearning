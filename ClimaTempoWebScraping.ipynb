{
  "nbformat": 4,
  "nbformat_minor": 0,
  "metadata": {
    "colab": {
      "name": "ClimaTempoWebScraping.ipynb",
      "provenance": [],
      "authorship_tag": "ABX9TyMfsms7m8qrS+sLKLd9Kw50",
      "include_colab_link": true
    },
    "kernelspec": {
      "name": "python3",
      "display_name": "Python 3"
    },
    "language_info": {
      "name": "python"
    }
  },
  "cells": [
    {
      "cell_type": "markdown",
      "metadata": {
        "id": "view-in-github",
        "colab_type": "text"
      },
      "source": [
        "<a href=\"https://colab.research.google.com/github/HomemJaguar111/PythonLearning/blob/main/ClimaTempoWebScraping.ipynb\" target=\"_parent\"><img src=\"https://colab.research.google.com/assets/colab-badge.svg\" alt=\"Open In Colab\"/></a>"
      ]
    },
    {
      "cell_type": "code",
      "execution_count": 1,
      "metadata": {
        "colab": {
          "base_uri": "https://localhost:8080/"
        },
        "id": "bKxVAqyvCCfc",
        "outputId": "ebccbc8d-8b0e-4d2f-dab6-f06ed40ffc55"
      },
      "outputs": [
        {
          "output_type": "stream",
          "name": "stdout",
          "text": [
            "Looking in indexes: https://pypi.org/simple, https://us-python.pkg.dev/colab-wheels/public/simple/\n",
            "Requirement already satisfied: beautifulsoup4 in /usr/local/lib/python3.7/dist-packages (4.6.3)\n"
          ]
        }
      ],
      "source": [
        "!pip install beautifulsoup4"
      ]
    },
    {
      "cell_type": "code",
      "source": [
        "from bs4 import BeautifulSoup\n",
        "import requests"
      ],
      "metadata": {
        "id": "yqcUhC4jCeOm"
      },
      "execution_count": 2,
      "outputs": []
    },
    {
      "cell_type": "code",
      "source": [
        "#carrega páginas com informações sobre o clima\n",
        "html = requests.get('https://www.climatempo.com.br/previsao-do-tempo/cidade/558/saopaulo-sp').content"
      ],
      "metadata": {
        "id": "ITsiS7qNC2UQ"
      },
      "execution_count": 4,
      "outputs": []
    },
    {
      "cell_type": "code",
      "source": [
        "#Faz parser no html da página\n",
        "soup = BeautifulSoup(html, 'html.parser')"
      ],
      "metadata": {
        "id": "c4MAg0a1DUZF"
      },
      "execution_count": 5,
      "outputs": []
    },
    {
      "cell_type": "code",
      "source": [
        "#Captura dados navegando nos elementos html\n",
        "resume  =  soup.find(class_ = '-gray -line-height-24 _center')\n",
        "tempMin =  soup.find(id = 'min-temp-1')\n",
        "tempMax =  soup.find(id='max-temp-1')"
      ],
      "metadata": {
        "id": "a0jGPGqDDja2"
      },
      "execution_count": 11,
      "outputs": []
    },
    {
      "cell_type": "code",
      "source": [
        "#Mostra resultados\n",
        "print(' Resumo: ' + resume.text)\n",
        "print(' Temp. Mínima: ' + tempMin.string)\n",
        "print(' Temp. Máxima: ' + tempMax.string)"
      ],
      "metadata": {
        "colab": {
          "base_uri": "https://localhost:8080/"
        },
        "id": "-mNCEjYuEfvZ",
        "outputId": "5e1ad37d-5496-4aed-bcc5-f4c505cbfec8"
      },
      "execution_count": 12,
      "outputs": [
        {
          "output_type": "stream",
          "name": "stdout",
          "text": [
            " Resumo: \n",
            "Hoje\n",
            "será\n",
            "parecido com ontem\n",
            "\n",
            "\n",
            "\n",
            "\n",
            "Sol com algumas nuvens. Não chove.\n",
            "\n",
            " Temp. Mínima: 10°\n",
            " Temp. Máxima: 18°\n"
          ]
        }
      ]
    }
  ]
}